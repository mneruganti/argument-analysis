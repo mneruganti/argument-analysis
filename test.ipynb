{
 "cells": [
  {
   "cell_type": "code",
   "execution_count": null,
   "metadata": {},
   "outputs": [],
   "source": [
    "# import statements\n",
    "from sentence_transformers import SentenceTransformer\n",
    "from sklearn.preprocessing import MultiLabelBinarizer\n",
    "from sklearn.linear_model import LogisticRegression\n",
    "from sklearn.multiclass import OneVsRestClassifier\n",
    "from sklearn.model_selection import train_test_split\n",
    "from sklearn.metrics import classification_report\n",
    "import pandas as pd"
   ]
  },
  {
   "cell_type": "code",
   "execution_count": 5,
   "metadata": {},
   "outputs": [],
   "source": [
    "# Load CSV file\n",
    "df = pd.read_csv('dataset/couples_conversation_dataset.csv')\n",
    "\n",
    "# Split the comma-separated labels into lists: \"criticism,contempt\" → [\"criticism\", \"contempt\"]\n",
    "df[\"label_list\"] = df[\"labels\"].apply(lambda x: x.split(\",\"))"
   ]
  },
  {
   "cell_type": "code",
   "execution_count": 6,
   "metadata": {},
   "outputs": [
    {
     "name": "stderr",
     "output_type": "stream",
     "text": [
      "/Users/Manasa/Desktop/Coding Projects/Toxic Dialogue Detection/venv/lib/python3.12/site-packages/sklearn/preprocessing/_label.py:909: UserWarning: unknown class(es) ['healthy'] will be ignored\n",
      "  warnings.warn(\n"
     ]
    }
   ],
   "source": [
    "# Define the label classes in a consistent order\n",
    "# This tool takes lists of labels and converts them to binary arrays,\n",
    "# where each label is either 1 (present) or 0 (absent), in the order you defined.\n",
    "\n",
    "# [\"criticism\", \"contempt\"] → [1, 1, 0, 0]\n",
    "# [\"defensiveness\"]         → [0, 0, 1, 0]\n",
    "# []                        → [0, 0, 0, 0]\n",
    "mlb = MultiLabelBinarizer(classes=[\"criticism\", \"contempt\", \"defensiveness\", \"stonewalling\"])\n",
    "\n",
    "# .fit() tells the MultiLabelBinarizer which labels exist in your dataset —\n",
    "# in this case, you already gave it manually, so this is optional.\n",
    "\n",
    "# .transform() converts every list of labels in the column into a row of 0s and 1s.\n",
    "y = mlb.fit_transform(df[\"label_list\"])\n"
   ]
  }
 ],
 "metadata": {
  "kernelspec": {
   "display_name": "venv",
   "language": "python",
   "name": "python3"
  },
  "language_info": {
   "codemirror_mode": {
    "name": "ipython",
    "version": 3
   },
   "file_extension": ".py",
   "mimetype": "text/x-python",
   "name": "python",
   "nbconvert_exporter": "python",
   "pygments_lexer": "ipython3",
   "version": "3.12.4"
  }
 },
 "nbformat": 4,
 "nbformat_minor": 2
}
